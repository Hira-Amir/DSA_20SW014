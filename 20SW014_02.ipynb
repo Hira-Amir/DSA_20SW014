{
  "cells": [
    {
      "cell_type": "code",
      "execution_count": null,
      "metadata": {
        "colab": {
          "base_uri": "https://localhost:8080/"
        },
        "id": "FDKmEj-p8YuR",
        "outputId": "d2537869-ca80-490c-8c76-1fcf4d13445a"
      },
      "outputs": [
        {
          "name": "stdout",
          "output_type": "stream",
          "text": [
            "45\n",
            "Congratulations! you won the Wooden rabbit\n"
          ]
        }
      ],
      "source": [
        "#Task_1#\n",
        "prize = int(input())\n",
        "\n",
        "if prize >= 1 and prize <= 50:\n",
        "    print('Congratulations! you won the Wooden rabbit')\n",
        "elif prize > 50 and prize <= 150:\n",
        "    print('Oh dear!! No prize')\n",
        "elif prize > 150 and prize <= 180:\n",
        "    print('Congratulations! you won the Wafer-thin mint')\n",
        "elif prize > 180 and prize <= 200:\n",
        "    print('Congratulations! you won the Penguin')\n",
        "else:\n",
        "    print('Wrong input')"
      ]
    },
    {
      "cell_type": "code",
      "execution_count": 1,
      "metadata": {
        "colab": {
          "base_uri": "https://localhost:8080/"
        },
        "id": "0PCT2CMM8kB8",
        "outputId": "261f1c59-a530-4de5-a79a-0938f13bfc69"
      },
      "outputs": [
        {
          "name": "stdout",
          "output_type": "stream",
          "text": [
            "Enter your guess: 34\n",
            "Your guess is too low.\n"
          ]
        }
      ],
      "source": [
        "#Task_2#\n",
        "answer = 56\n",
        "\n",
        "guess = int(input(\"Enter your guess: \"))\n",
        "if guess < answer:\n",
        "    print(\"Your guess is too low.\")\n",
        "elif guess > answer:\n",
        "    print(\"Your guess is too high.\")\n",
        "else:\n",
        "    print(\"Congratulations! Your guess matched!\")\n"
      ]
    },
    {
      "cell_type": "code",
      "execution_count": null,
      "metadata": {
        "colab": {
          "base_uri": "https://localhost:8080/"
        },
        "id": "2yyBtaOw8sjS",
        "outputId": "a902775c-b2d2-4751-e83f-fd20704f0c3a"
      },
      "outputs": [
        {
          "name": "stdout",
          "output_type": "stream",
          "text": [
            "Enter the purchase amount: $20\n",
            "Enter your state (CA, MN, or NY): CA\n",
            "Purchase amount: $20.00\n",
            "Tax rate in CA: 7.5%\n",
            "Tax amount: $1.50\n",
            "Total amount after tax: $21.50\n"
          ]
        }
      ],
      "source": [
        " #Task_3\n",
        "\n",
        "def calculate_tax(purchase_amount, state):\n",
        "    # Define tax rates for different states\n",
        "    tax_rates = {\n",
        "        'CA': 0.075,\n",
        "        'MN': 0.095,\n",
        "        'NY': 0.089\n",
        "    }\n",
        "\n",
        "    # Check if the state is in the tax_rates dictionary\n",
        "    if state in tax_rates:\n",
        "        tax_rate = tax_rates[state]\n",
        "        tax_amount = purchase_amount * tax_rate\n",
        "        total_amount = purchase_amount + tax_amount\n",
        "        print(f\"Purchase amount: ${purchase_amount:.2f}\")\n",
        "        print(f\"Tax rate in {state}: {tax_rate * 100:.1f}%\")\n",
        "        print(f\"Tax amount: ${tax_amount:.2f}\")\n",
        "        print(f\"Total amount after tax: ${total_amount:.2f}\")\n",
        "    else:\n",
        "        print(\"Invalid state. Please enter a valid state code (CA, MN, or NY).\")\n",
        "\n",
        "purchase_amount = float(input(\"Enter the purchase amount: $\"))\n",
        "state = input(\"Enter your state (CA, MN, or NY): \")\n",
        "\n",
        "calculate_tax(purchase_amount, state)"
      ]
    },
    {
      "cell_type": "code",
      "execution_count": 1,
      "metadata": {
        "colab": {
          "base_uri": "https://localhost:8080/"
        },
        "id": "NqscSDRX80ad",
        "outputId": "572cdd86-0811-44e8-c465-33d403587355"
      },
      "outputs": [
        {
          "name": "stdout",
          "output_type": "stream",
          "text": [
            "Hira\n",
            "Danny\n",
            "Anthony\n",
            "Yale\n",
            "Micky\n"
          ]
        }
      ],
      "source": [
        "#Task_4#\n",
        "my_list = [\"Hira\",\"Danny\",\"Anthony\",\"Yale\",\"Micky\"]\n",
        "\n",
        "for element in my_list:\n",
        "    print(element)"
      ]
    },
    {
      "cell_type": "code",
      "execution_count": null,
      "metadata": {
        "colab": {
          "base_uri": "https://localhost:8080/"
        },
        "id": "j8WuXxDl9JXJ",
        "outputId": "cf55065d-4eb0-43df-a38b-344db6d6f0eb"
      },
      "outputs": [
        {
          "name": "stdout",
          "output_type": "stream",
          "text": [
            "5\n",
            "10\n",
            "15\n",
            "20\n",
            "25\n",
            "30\n"
          ]
        }
      ],
      "source": [
        "  #Task_5\n",
        "# Multiples of 5\n",
        "for number in range(5, 31, 5):\n",
        "    print(number)"
      ]
    },
    {
      "cell_type": "code",
      "execution_count": 2,
      "metadata": {
        "colab": {
          "base_uri": "https://localhost:8080/"
        },
        "id": "BjHu81Eo9NC_",
        "outputId": "db7e6b3d-4498-470b-e3fb-8eec17c6482c"
      },
      "outputs": [
        {
          "name": "stdout",
          "output_type": "stream",
          "text": [
            "['hira', 'danny', 'anthony', 'yale', 'micky']\n"
          ]
        }
      ],
      "source": [
        "#Task_6#\n",
        "\n",
        "names = [\"Hira\",\"Danny\",\"Anthony\",\"Yale\",\"Micky\"]\n",
        "\n",
        "# List comprehension to extract first names in lowercase\n",
        "first_names = [name.split()[0].lower() for name in names]\n",
        "\n",
        "# Printing the result\n",
        "print(first_names)"
      ]
    },
    {
      "cell_type": "code",
      "execution_count": null,
      "metadata": {
        "colab": {
          "base_uri": "https://localhost:8080/"
        },
        "id": "2d3b_99Z9Tum",
        "outputId": "2879fabc-7a59-4db6-b769-7b1558d5dcfd"
      },
      "outputs": [
        {
          "name": "stdout",
          "output_type": "stream",
          "text": [
            "[3, 6, 9, 12, 15, 18, 21, 24, 27, 30, 33, 36, 39, 42, 45, 48, 51, 54, 57, 60]\n"
          ]
        }
      ],
      "source": [
        "              #Task_7#\n",
        "multiples_3 = [3 * i for i in range(1, 21)]\n",
        "print(multiples_3)"
      ]
    },
    {
      "cell_type": "code",
      "execution_count": null,
      "metadata": {
        "colab": {
          "base_uri": "https://localhost:8080/"
        },
        "id": "D4XME_KV9Z8i",
        "outputId": "f5adf379-2bc7-4537-8b94-a156cf0f3511"
      },
      "outputs": [
        {
          "name": "stdout",
          "output_type": "stream",
          "text": [
            "['Rick Sanchez', 'Summer Smith', 'Beth Smith']\n"
          ]
        }
      ],
      "source": [
        "#Task_8#\n",
        "scores = {\"Rick Sanchez\": 70, \"Morty Smith\": 35, \"Summer Smith\": 82, \"Jerry Smith\": 23, \"Beth Smith\": 98}\n",
        "\n",
        "passed = [name for name, score in scores.items() if score >= 65]\n",
        "\n",
        "print(passed)"
      ]
    },
    {
      "cell_type": "code",
      "execution_count": 3,
      "metadata": {
        "colab": {
          "base_uri": "https://localhost:8080/"
        },
        "id": "ikZF7tj59eCv",
        "outputId": "3e241e48-5a5e-4ccd-9e41-6cfc2daecb59"
      },
      "outputs": [
        {
          "name": "stdout",
          "output_type": "stream",
          "text": [
            "{'Hira': 165, 'Danny': 180, 'Anthony': 175, 'Yale': 170, 'Micky': 160}\n"
          ]
        }
      ],
      "source": [
        "#Task_9#\n",
        "names = [\"Hira\",\"Danny\",\"Anthony\",\"Yale\",\"Micky\"]\n",
        "heights = [165, 180, 175, 170, 160]\n",
        "\n",
        "cast = dict(zip(names, heights))\n",
        "\n",
        "print(cast)"
      ]
    },
    {
      "cell_type": "code",
      "execution_count": null,
      "metadata": {
        "colab": {
          "base_uri": "https://localhost:8080/"
        },
        "id": "fWAa6y8L9ory",
        "outputId": "623f13f6-049c-4da5-c6fa-c34607d296e8"
      },
      "outputs": [
        {
          "name": "stdout",
          "output_type": "stream",
          "text": [
            "['ken 165', 'taylor 180', 'talha 175', 'Dhani 170', 'Amina 160']\n"
          ]
        }
      ],
      "source": [
        " # Task_10#\n",
        "cast = {'ken ': 165, 'taylor ': 180, 'talha ': 175, 'Dhani ': 170, 'Amina ': 160}\n",
        "modified_cast = [name + str(height) for name, height in cast.items()]\n",
        "\n",
        "print(modified_cast)"
      ]
    }
  ],
  "metadata": {
    "colab": {
      "provenance": []
    },
    "kernelspec": {
      "display_name": "Python 3",
      "name": "python3"
    },
    "language_info": {
      "codemirror_mode": {
        "name": "ipython",
        "version": 3
      },
      "file_extension": ".py",
      "mimetype": "text/x-python",
      "name": "python",
      "nbconvert_exporter": "python",
      "pygments_lexer": "ipython3",
      "version": "3.11.4"
    }
  },
  "nbformat": 4,
  "nbformat_minor": 0
}
