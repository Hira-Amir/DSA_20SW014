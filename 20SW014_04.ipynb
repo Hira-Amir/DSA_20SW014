{
  "nbformat": 4,
  "nbformat_minor": 0,
  "metadata": {
    "colab": {
      "provenance": []
    },
    "kernelspec": {
      "name": "python3",
      "display_name": "Python 3"
    },
    "language_info": {
      "name": "python"
    }
  },
  "cells": [
    {
      "cell_type": "markdown",
      "source": [
        "**LAB 4**"
      ],
      "metadata": {
        "id": "fvrmcQKebMQ2"
      }
    },
    {
      "cell_type": "markdown",
      "source": [
        "**TASK 1**"
      ],
      "metadata": {
        "id": "GaeY97mOaj_W"
      }
    },
    {
      "cell_type": "code",
      "source": [
        "import numpy as np\n",
        "\n",
        "X = np.arange(2, 33, 2).reshape(4, 4)\n",
        "print(X)"
      ],
      "metadata": {
        "colab": {
          "base_uri": "https://localhost:8080/"
        },
        "id": "VpLfwC8zaqxj",
        "outputId": "0e82764a-db67-456b-e300-d3cee82d392c"
      },
      "execution_count": null,
      "outputs": [
        {
          "output_type": "stream",
          "name": "stdout",
          "text": [
            "[[ 2  4  6  8]\n",
            " [10 12 14 16]\n",
            " [18 20 22 24]\n",
            " [26 28 30 32]]\n"
          ]
        }
      ]
    },
    {
      "cell_type": "markdown",
      "source": [
        "**TASK 2**"
      ],
      "metadata": {
        "id": "xWrY5fjBbWIl"
      }
    },
    {
      "cell_type": "code",
      "source": [
        "import numpy as np\n",
        "X = np.arange(1, 26).reshape(5, 5)\n",
        "Y = X[X % 2 != 0]\n",
        "\n",
        "print(\"Original Array:\\n\", X)\n",
        "print(\"\\nOdd Numbers Array:\\n\", Y)"
      ],
      "metadata": {
        "colab": {
          "base_uri": "https://localhost:8080/"
        },
        "id": "V7SaalT8bZ8W",
        "outputId": "37d51b1f-5759-43ba-ebda-34e25bc2abf0"
      },
      "execution_count": null,
      "outputs": [
        {
          "output_type": "stream",
          "name": "stdout",
          "text": [
            "Original Array:\n",
            " [[ 1  2  3  4  5]\n",
            " [ 6  7  8  9 10]\n",
            " [11 12 13 14 15]\n",
            " [16 17 18 19 20]\n",
            " [21 22 23 24 25]]\n",
            "\n",
            "Odd Numbers Array:\n",
            " [ 1  3  5  7  9 11 13 15 17 19 21 23 25]\n"
          ]
        }
      ]
    },
    {
      "cell_type": "markdown",
      "source": [
        "**TASK 3**"
      ],
      "metadata": {
        "id": "WStqLDz6bvbN"
      }
    },
    {
      "cell_type": "code",
      "source": [
        "import numpy as np\n",
        "\n",
        "\n",
        "X = np.arange(1, 5).reshape(4, 1) * np.ones((1, 4))\n",
        "\n",
        "print(X)\n"
      ],
      "metadata": {
        "colab": {
          "base_uri": "https://localhost:8080/"
        },
        "id": "pKJzcjK2bybK",
        "outputId": "ca4ae558-65e3-42ca-eb11-9ad7d8fc7108"
      },
      "execution_count": 2,
      "outputs": [
        {
          "output_type": "stream",
          "name": "stdout",
          "text": [
            "[[1. 1. 1. 1.]\n",
            " [2. 2. 2. 2.]\n",
            " [3. 3. 3. 3.]\n",
            " [4. 4. 4. 4.]]\n"
          ]
        }
      ]
    },
    {
      "cell_type": "markdown",
      "source": [
        "**TASK 4**"
      ],
      "metadata": {
        "id": "LvYoysh2JK49"
      }
    },
    {
      "cell_type": "code",
      "source": [
        "import numpy as np\n",
        "\n",
        "# Create a 1000x20 ndarray with random integers in the range [0, 5001)\n",
        "X = np.random.randint(0, 5001, size=(1000, 20))\n",
        "# Print the shape of X\n",
        "print(X.shape)\n",
        "\n",
        "# Calculate the average of the values in each column of X\n",
        "ave_cols = np.mean(X, axis=0)\n",
        "\n",
        "# Calculate the standard deviation of the values in each column of X\n",
        "std_cols = np.std(X, axis=0)\n",
        "\n",
        "\n",
        "print(\"Shape of ave_cols:\", ave_cols.shape)\n",
        "print(\"Shape of std_cols:\", std_cols.shape)\n",
        "\n",
        "# Mean normalize X\n",
        "X_norm = (X - ave_cols) / std_cols\n",
        "\n",
        "print(\"Mean normalized X:\")\n",
        "print(X_norm)\n",
        "\n",
        "# Print the average of all the values of X_norm\n",
        "ave_all_values = np.mean(X_norm)\n",
        "print(\"Average of all values in X_norm:\", ave_all_values)\n",
        "\n",
        "# Print the average of the minimum value in each column of X_norm\n",
        "ave_min_values = np.mean(np.min(X_norm, axis=0))\n",
        "print(\"Average of minimum values in each column of X_norm:\", ave_min_values)\n",
        "\n",
        "# Print the average of the maximum value in each column of X_norm\n",
        "ave_max_values = np.mean(np.max(X_norm, axis=0))\n",
        "print(\"Average of maximum values in each column of X_norm:\", ave_max_values)\n",
        "\n",
        "# We create a random permutation of integers 0 to 4\n",
        "np.random.permutation(5)\n",
        "\n",
        "# Create a random permutation of row indices of X_norm\n",
        "row_indices = np.random.permutation(X_norm.shape[0])\n",
        "\n",
        "print(\"Random permutation of row indices:\", row_indices)\n",
        "\n",
        "\n",
        "# Define the ratios for training, cross-validation, and test sets\n",
        "train_ratio = 0.6\n",
        "cross_val_ratio = 0.2\n",
        "test_ratio = 0.2\n",
        "\n",
        "# Calculate the sizes of each set based on the ratios\n",
        "num_rows = X_norm.shape[0]\n",
        "num_train = int(train_ratio * num_rows)\n",
        "num_cross_val = int(cross_val_ratio * num_rows)\n",
        "num_test = int(test_ratio * num_rows)\n",
        "\n",
        "# Use row_indices to split the data into sets\n",
        "X_train = X_norm[row_indices[:num_train]]\n",
        "X_crossVal = X_norm[row_indices[num_train:num_train + num_cross_val]]\n",
        "X_test = X_norm[row_indices[num_train + num_cross_val:]]\n",
        "\n",
        "print(\"X_train shape:\", X_train.shape)\n",
        "print(\"X_crossVal shape:\", X_crossVal.shape)\n",
        "print(\"X_test shape:\", X_test.shape)"
      ],
      "metadata": {
        "colab": {
          "base_uri": "https://localhost:8080/"
        },
        "id": "4cQUUA9B42kV",
        "outputId": "af33cb30-18b3-473b-cf74-eacbf7f95783"
      },
      "execution_count": 3,
      "outputs": [
        {
          "output_type": "stream",
          "name": "stdout",
          "text": [
            "(1000, 20)\n",
            "Shape of ave_cols: (20,)\n",
            "Shape of std_cols: (20,)\n",
            "Mean normalized X:\n",
            "[[ 1.67245996  0.59054873  0.85814677 ... -1.15406867  0.76950144\n",
            "  -1.25840046]\n",
            " [-1.1644893   0.20149042  0.47168967 ... -0.57154243  0.08097116\n",
            "  -0.57763667]\n",
            " [-0.37864447  0.40423912 -1.54143269 ...  0.21194857  1.44310792\n",
            "  -1.003028  ]\n",
            " ...\n",
            " [-0.21272036  1.24605719 -0.84368263 ... -1.4086693  -0.65436561\n",
            "   1.01517161]\n",
            " [-0.13081739 -1.48146075 -1.78323428 ...  1.14752102 -0.60959419\n",
            "   1.43436792]\n",
            " [-1.56270717  0.26313699 -1.41663187 ...  1.69677945 -1.57014481\n",
            "   0.15681728]]\n",
            "Average of all values in X_norm: 2.4158453015843405e-17\n",
            "Average of minimum values in each column of X_norm: -1.7072729231099362\n",
            "Average of maximum values in each column of X_norm: 1.7304797015286268\n",
            "Random permutation of row indices: [989 327 184 666 436 195 644 898 446  56 843  34 273 715 645 554 921 484\n",
            " 519   5 697  38 142 198 803 970 804 536  42 748 110 712 301 909   7 814\n",
            " 250  40 818 605 858 840 828 612 956 274 432 296 259 553 456 272  99  19\n",
            " 948 615 523 560 457 929 992 693 721 393 859  60 444 962 156 394 981 443\n",
            " 511 316 751 687 404 894 657 421 837  61 743 938 677 638 324 392 558 313\n",
            " 405 229 817 482 607 694 314 205 105 217 785 461 494 659 966 661  52 425\n",
            " 412 596 276 682 188 855 695 842 994 356 761 192 285 754 663 698 608 338\n",
            "  16 923 380 111 497 524 977 737 667 347 364 293 763 103 672 769 965 261\n",
            "  47 375 196 498 526 328 260 115 836 487  81 641 247 718 289 384 294 302\n",
            " 850 701 270 386 382 995 614 486 939 483 577 821  85 782 835  73 210 437\n",
            " 518 942 251 478 130 648 780 905 913 369 935 912 537 958 521  50 132 395\n",
            " 808   8 640 349 749 383 744 927 700 211 265  70 547  74 684 827 650 242\n",
            " 922 963 993 669 468 789 767 278 496 305 323  84 857 747 514 255 579   1\n",
            " 643 552 398 389 559 961 896 435 868 264 618 653 288 352 557 581 158  37\n",
            " 153  64 308 930 104 504  30 568 507 595 335  14 632 621 212 768 221 283\n",
            " 233 157 658 967 407 711 895 252 656 762 525 490 520 907 230 500 846 565\n",
            " 234 636 473 121 481 213 337 417 201 138 248 571  53 676 463 797 351 147\n",
            " 691 624 766 806 406 723 953 224 882 452  78 897 728 651 703  71 986 354\n",
            "  15 109 506 886 598 985 649 489  54 238 904 879 170 290 788 955 312 540\n",
            " 414 941 361 573 200 702  90 841 784 357 830 445 165 439 774 460 664 409\n",
            " 263 441 972  91 465  57 549 793 919 845 517 934 469 179 746 917 591 652\n",
            "  69 765  33  88 277 531 999 582 180 545 258  35 848 467 541 878 151 133\n",
            " 448 914 102 510 660 892 371 331 726 781 101 280 144   9 332 851 155 686\n",
            "  21 580 466 119 222 928 710 106  79 470 424 863 844 241 613  49 148 852\n",
            " 306 627 186 330  92  62 317 968  96 680 872 722  24 811 997 426  26 522\n",
            "  77 809 232 164 945 387 172 376 268 915 801 329 267 216 733 665 564 574\n",
            " 433 137  41 860 401 279 124 538 936 539 528 885 847 874 171 893 628 235\n",
            " 853 502  63 675 869 815  95 755 802 187 108 215 197 411 454 220 403 226\n",
            " 739 575 218 275 679  58 114 348 334 876 796 736 771 991 833 410 734 271\n",
            " 544 100 127 655 513 282  23 257 434 269  45 750 906 724 619   6 947 298\n",
            "  32 462 315 731 752 717 689 587 832 960 262 625 674 829 304 865 704 120\n",
            " 620 594 822 178 256 374 174 429 569 399 370 122  39 916 983 191 245 515\n",
            " 944 140 449 239 477  28  48 973 890 707 820 875   2 297 706 139 870 609\n",
            " 199 346 838  72 839 849 176 358 542 116 933 418 871 924 903 491 134 902\n",
            " 189 668 563 551 362 162 678 600 340 343  68 637 420 603 791 292 705 794\n",
            " 118 779 646 203 699 807 714  10 325 570 388  94 160 606 428 493 786 363\n",
            " 474 368 588 381 183   4 810 639 881 816 295 360 996 227 228 253 177 867\n",
            " 834 777 163 333 773  25  51 175 920 475 630 377 601 753 825 683 236  11\n",
            "  44 208 987 952 740 831 776  31 149 532  22 792 561 823 954 590 240 949\n",
            " 925  86 194 681 546 284 266 311 589 367 757 402 708 616 585 604 772 344\n",
            " 578 422 756 339 926 214 727 125 745 300 416  20 206 884 990 854 135 943\n",
            " 622 286 862 287 159 880 527  75  18 584 764 866 586 423 824 129 254 459\n",
            " 249 805 451 720 631 353 918 219 112 795 146 488   0  87 964 861 113 647\n",
            " 190 471 181 550 150 877 530 654 415 366 670 696 979  59 572 716 173 988\n",
            " 910 978 431 911  93 291 365 899 341 400 626 319 730 971 126 946 390 533\n",
            " 512 167 690 492  82 534  43 505 759 246  27 819 673 778  13  36 350 345\n",
            " 611 373 975 741 543 790 719 310 455 931 193  76 359 320 501 597 307 888\n",
            " 430  97  55 980 342  66 204 123 662 758 732 864 464 318   3 169 107 950\n",
            " 602 593 243 136 623 480 566  80 447 336 592 281 413 692 775 783 231 529\n",
            " 974 141 940 633  98 223 321 799 567  83 562 309 450 535 326 891 378 396\n",
            " 856 634 145 725 688 143 976 182 908 372 472 453 185 998 225 984 397 742\n",
            " 685 161 617 729 735 760 548 813 440 154  17 322 391 128  29 812 873  67\n",
            "  65 508 610 599 303 152 458 131 671 499 937 485 932 495 503 556 982 516\n",
            " 438 237 479 951 959 168 770 969 798 209 738 299 583 629 957 427 166  89\n",
            " 889 576 355 787  46  12 244 207 713 442 826 709 509 800 385 476 883 379\n",
            " 202 887 555 900 117 642 408 901 419 635]\n",
            "X_train shape: (600, 20)\n",
            "X_crossVal shape: (200, 20)\n",
            "X_test shape: (200, 20)\n"
          ]
        }
      ]
    }
  ]
}